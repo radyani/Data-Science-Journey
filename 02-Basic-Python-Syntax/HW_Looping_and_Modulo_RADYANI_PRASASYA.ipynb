{
  "nbformat": 4,
  "nbformat_minor": 0,
  "metadata": {
    "colab": {
      "name": "HW_Looping_and_Modulo_RADYANI PRASASYA.ipynb",
      "provenance": [],
      "include_colab_link": true
    },
    "kernelspec": {
      "name": "python3",
      "display_name": "Python 3"
    },
    "language_info": {
      "name": "python"
    }
  },
  "cells": [
    {
      "cell_type": "markdown",
      "metadata": {
        "id": "view-in-github",
        "colab_type": "text"
      },
      "source": [
        "<a href=\"https://colab.research.google.com/github/radyani/Data-Science-Journey/blob/main/02-Basic-Python-Syntax/HW_Looping_and_Modulo_RADYANI_PRASASYA.ipynb\" target=\"_parent\"><img src=\"https://colab.research.google.com/assets/colab-badge.svg\" alt=\"Open In Colab\"/></a>"
      ]
    },
    {
      "cell_type": "markdown",
      "source": [
        "#Looping & Modulo"
      ],
      "metadata": {
        "id": "21Q6Yhc2Fy9p"
      }
    },
    {
      "cell_type": "markdown",
      "source": [
        "### **Task 1**: \n",
        "\n",
        "Print out integers which are multiples of 3 from 1 to 22.\n",
        "\n",
        "**Expectation:**\n",
        "\n",
        "When your code is run, the numbers appear: 3, 6, 9, 12, 15, 18, 21. Use looping."
      ],
      "metadata": {
        "id": "8Pk4S8y1GF_G"
      }
    },
    {
      "cell_type": "markdown",
      "source": [
        "Code concept used:\n",
        "1. The numbers will be generated from the function named 'multiple';\n",
        "2. The range of numbers to be analyzed is made as a list first;\n",
        "3. Displays a list of numbers to be analyzed;\n",
        "4. If the number in the list divided by multiples (e.g. 3) has no remainder, then the number is printed."
      ],
      "metadata": {
        "id": "cpcVKeYF8JeX"
      }
    },
    {
      "cell_type": "code",
      "source": [
        "def multiple(number_min, number_max, value_multiple):\n",
        "\n",
        "    list_number = list(range(number_min, number_max + 1))                            # make a list of the range of numbers to be analyzed\n",
        "    print(\"List of Numbers to be Analyzed:\")\n",
        "    print(list_number)\n",
        "    print()\n",
        "\n",
        "    unit_multiple = str(value_multiple)\n",
        "    print(\"The multiples of \" + unit_multiple + \" in the List are:\")\n",
        "\n",
        "    for number in list_number:                                                      # the loop tries every number in the list\n",
        "        if number % value_multiple == 0:\n",
        "          print(number)\n",
        "        else:\n",
        "          pass"
      ],
      "metadata": {
        "id": "zaDwLYur6e8M"
      },
      "execution_count": 5,
      "outputs": []
    },
    {
      "cell_type": "code",
      "source": [
        "number_min = 1           # input minimum value of the range\n",
        "number_max = 22          # input maximum value of the range\n",
        "value_multiple = 3       # choose your multiplication number\n",
        "\n",
        "multiple(number_min, number_max, value_multiple)"
      ],
      "metadata": {
        "colab": {
          "base_uri": "https://localhost:8080/"
        },
        "id": "SVP92j0P75D7",
        "outputId": "e2a72c23-b72b-40dc-a098-442023f5fe4b"
      },
      "execution_count": 6,
      "outputs": [
        {
          "output_type": "stream",
          "name": "stdout",
          "text": [
            "List of Numbers to be Analyzed:\n",
            "[1, 2, 3, 4, 5, 6, 7, 8, 9, 10, 11, 12, 13, 14, 15, 16, 17, 18, 19, 20, 21, 22]\n",
            "\n",
            "The multiples of 3 in the List are:\n",
            "3\n",
            "6\n",
            "9\n",
            "12\n",
            "15\n",
            "18\n",
            "21\n"
          ]
        }
      ]
    },
    {
      "cell_type": "markdown",
      "source": [
        "### **Task 2**: \n",
        "\n",
        "Create a function in Python to check whether a number is prime or not.\n",
        "\n",
        "Answer expectations:\n",
        "\n",
        "eg your function is named prime_check. When we run prime_check(5), the output is '5 is a Prime number'. This function should be able to apply to any input.\n",
        "\n",
        "Clue: Checks for prime numbers using looping and modulo.\n",
        "```(python)\n",
        "print('The result of 5 modulo 2 is',5 % 2)\n",
        "# 5 Modulo 2 equals 1. That is, 5 is divided by 2, the remainder is 1\n",
        "\n",
        "print('The result of 6 modulo 3 is', 6 % 3)\n",
        "#6 Modulo 3 equals 0. It means 6 is divided by 3, the remainder is 0.\n",
        "```"
      ],
      "metadata": {
        "id": "B3KWeHp2G3Pi"
      }
    },
    {
      "cell_type": "markdown",
      "source": [
        "Code concept used:\n",
        "1. The function used is prime_check;\n",
        "2. The number entered is prime if it cannot be divided by a number other than 1 and itself without producing a remainder;\n",
        "3. The input number will be divided by the divisor (starting from the number 2 and so on until 1 number before the input number)"
      ],
      "metadata": {
        "id": "ktyTi6ipGarH"
      }
    },
    {
      "cell_type": "code",
      "source": [
        "def prime_check(input):\n",
        "    \n",
        "    divider = 2\n",
        "    input_display = str(input)\n",
        "    checker = 0 # variabel yang digunakan untuk mengecek berapa kali angka input terdeteksi dapat dibagi\n",
        "\n",
        "    while divider < input:\n",
        "          if input % divider == 0:\n",
        "              print(input_display + \" is NOT a Prime Number\")\n",
        "              divider = input\n",
        "              checker += 1\n",
        "          else:\n",
        "              divider += 1\n",
        "\n",
        "    if checker == 0:\n",
        "              print(input_display + \" is a Prime Number\")  "
      ],
      "metadata": {
        "id": "jNzJrYNCJmBw"
      },
      "execution_count": 7,
      "outputs": []
    },
    {
      "cell_type": "code",
      "source": [
        "input = 113     # input angka yang akan dicek\n",
        "prime_check(input)"
      ],
      "metadata": {
        "colab": {
          "base_uri": "https://localhost:8080/"
        },
        "id": "8v9qBq270JJ8",
        "outputId": "c47fce0c-f941-4d6f-fc91-9267d704f9fa"
      },
      "execution_count": 8,
      "outputs": [
        {
          "output_type": "stream",
          "name": "stdout",
          "text": [
            "113 is a Prime Number\n"
          ]
        }
      ]
    }
  ]
}