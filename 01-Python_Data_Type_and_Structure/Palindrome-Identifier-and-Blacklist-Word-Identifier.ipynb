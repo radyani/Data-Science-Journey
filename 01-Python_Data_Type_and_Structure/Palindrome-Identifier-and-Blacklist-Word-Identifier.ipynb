{
  "nbformat": 4,
  "nbformat_minor": 0,
  "metadata": {
    "colab": {
      "name": "HW_Data_Type_and_Structure_ RADYANI PRASASYA.ipynb",
      "provenance": [],
      "toc_visible": true,
      "authorship_tag": "ABX9TyNeVc8ox0K0Pj4Sii9Zxvk0",
      "include_colab_link": true
    },
    "kernelspec": {
      "name": "python3",
      "display_name": "Python 3"
    },
    "language_info": {
      "name": "python"
    }
  },
  "cells": [
    {
      "cell_type": "markdown",
      "metadata": {
        "id": "view-in-github",
        "colab_type": "text"
      },
      "source": [
        "<a href=\"https://github.com/radyani/Data-Science-Journey/blob/main/01-Python_Data_Type_and_Structure/Palindrome-Identifier-and-Blacklist-Word-Identifier.ipynb\" target=\"_parent\"><img src=\"https://colab.research.google.com/assets/colab-badge.svg\" alt=\"Open In Colab\"/></a>"
      ]
    },
    {
      "cell_type": "markdown",
      "source": [
        "# **TASK 1 - Palindrome Identifier**"
      ],
      "metadata": {
        "id": "-XVBZKNeVyQr"
      }
    },
    {
      "cell_type": "markdown",
      "source": [
        "This code aims to identify palindrome when string data is being input. Palindrome is a situation where data is the same when being read forward or backward."
      ],
      "metadata": {
        "id": "fY56Tn__Vhrl"
      }
    },
    {
      "cell_type": "markdown",
      "source": [
        "1. Input the data to be identified;\n",
        "2. The identification will be using comparison of input data and flipped data;\n",
        "3. Since comparison can be case sensitive, the data needs to be uniform in lower-case or upper-case, in here upper-case is used;\n",
        "4. If the uppercase input data is the same as uppercase flipped data, it will print \"'[Input Data]' is palindrome\";\n",
        "5. If the uppercase input data is NOT the same as uppercase flipped data, it will print \"'[Input Data]' is NOT palindrome\"."
      ],
      "metadata": {
        "id": "zHDSnc8LXq5o"
      }
    },
    {
      "cell_type": "code",
      "execution_count": null,
      "metadata": {
        "id": "G3WuKpORM-lw"
      },
      "outputs": [],
      "source": [
        "def identify_palindrome(input):\n",
        "    uppercase_input = input.upper()\n",
        "    flipped_input = uppercase_input[::-1]\n",
        "\n",
        "    if uppercase_input == flipped_input:\n",
        "        return(\"'\"+input+\"' is palindrome\")\n",
        "\n",
        "    else:\n",
        "        return(\"'\"+input+\"' is NOT palindrome\")"
      ]
    },
    {
      "cell_type": "markdown",
      "source": [
        "Test the code"
      ],
      "metadata": {
        "id": "YFoMj6VscGWJ"
      }
    },
    {
      "cell_type": "code",
      "source": [
        "identify_palindrome('malam')"
      ],
      "metadata": {
        "colab": {
          "base_uri": "https://localhost:8080/",
          "height": 35
        },
        "id": "A69GW9HWcIw1",
        "outputId": "55a65d5e-d357-4c37-9c6b-502c40f2b40b"
      },
      "execution_count": null,
      "outputs": [
        {
          "output_type": "execute_result",
          "data": {
            "application/vnd.google.colaboratory.intrinsic+json": {
              "type": "string"
            },
            "text/plain": [
              "\"'malam' is palindrome\""
            ]
          },
          "metadata": {},
          "execution_count": 172
        }
      ]
    },
    {
      "cell_type": "code",
      "source": [
        "identify_palindrome('Abba')"
      ],
      "metadata": {
        "colab": {
          "base_uri": "https://localhost:8080/",
          "height": 35
        },
        "id": "RkmI2OONbgmp",
        "outputId": "3e8f7f94-82c7-47a8-f649-704da826b899"
      },
      "execution_count": null,
      "outputs": [
        {
          "output_type": "execute_result",
          "data": {
            "application/vnd.google.colaboratory.intrinsic+json": {
              "type": "string"
            },
            "text/plain": [
              "\"'Abba' is palindrome\""
            ]
          },
          "metadata": {},
          "execution_count": 173
        }
      ]
    },
    {
      "cell_type": "code",
      "source": [
        "identify_palindrome('Python')"
      ],
      "metadata": {
        "colab": {
          "base_uri": "https://localhost:8080/",
          "height": 35
        },
        "id": "4AHPpZn4cOcY",
        "outputId": "bc2cc3d8-0e2b-4c07-bfe8-03ad5a7945c3"
      },
      "execution_count": null,
      "outputs": [
        {
          "output_type": "execute_result",
          "data": {
            "application/vnd.google.colaboratory.intrinsic+json": {
              "type": "string"
            },
            "text/plain": [
              "\"'Python' is NOT palindrome\""
            ]
          },
          "metadata": {},
          "execution_count": 174
        }
      ]
    },
    {
      "cell_type": "code",
      "source": [
        "identify_palindrome('1221')"
      ],
      "metadata": {
        "colab": {
          "base_uri": "https://localhost:8080/",
          "height": 35
        },
        "id": "tzHyPFR_cUj5",
        "outputId": "34ee2445-e24e-4bdd-b220-e89f297017c6"
      },
      "execution_count": null,
      "outputs": [
        {
          "output_type": "execute_result",
          "data": {
            "application/vnd.google.colaboratory.intrinsic+json": {
              "type": "string"
            },
            "text/plain": [
              "\"'1221' is palindrome\""
            ]
          },
          "metadata": {},
          "execution_count": 175
        }
      ]
    },
    {
      "cell_type": "code",
      "source": [
        "identify_palindrome(\"123 321\")"
      ],
      "metadata": {
        "colab": {
          "base_uri": "https://localhost:8080/",
          "height": 35
        },
        "id": "xbp_w4w5cg95",
        "outputId": "3038c773-f012-430b-cb2e-49d044d72044"
      },
      "execution_count": null,
      "outputs": [
        {
          "output_type": "execute_result",
          "data": {
            "application/vnd.google.colaboratory.intrinsic+json": {
              "type": "string"
            },
            "text/plain": [
              "\"'123 321' is palindrome\""
            ]
          },
          "metadata": {},
          "execution_count": 176
        }
      ]
    },
    {
      "cell_type": "markdown",
      "source": [
        "# **Task 2 - Black-Listed Words**"
      ],
      "metadata": {
        "id": "Uf_XJJWicoK8"
      }
    },
    {
      "cell_type": "markdown",
      "source": [
        "This code aims to identify whether the string data being input includes black-listed words or not. "
      ],
      "metadata": {
        "id": "b-wqYxble2kQ"
      }
    },
    {
      "cell_type": "markdown",
      "source": [
        "1. Make list of black-listed words;\n",
        "2. Input string data to be identified;\n",
        "3. To be safe, make all string data lowercase;\n",
        "4. If the string data contains more than one word, split the words to turn it into a list;\n",
        "5. Check one by one whether the data in the blacklist is the same as any data in the input list;\n",
        "6. If there is one member of the black-listed list is the same as one member of input list, it will print and return \"Ada Black-List Word\";\n",
        "7. If there is no member of the black-listed list is the same as one member of input list, it will print and return \"Tidak Ada Black-List Word\";"
      ],
      "metadata": {
        "id": "YLxU9uW3e9Nm"
      }
    },
    {
      "cell_type": "markdown",
      "source": [
        "List of Black-Listed Words"
      ],
      "metadata": {
        "id": "LEH3kWKmhT-P"
      }
    },
    {
      "cell_type": "code",
      "source": [
        "black_list = ['andi', 'susi', 'bola']"
      ],
      "metadata": {
        "id": "fw-kkEogeggh"
      },
      "execution_count": null,
      "outputs": []
    },
    {
      "cell_type": "markdown",
      "source": [
        "Black-List Identifier"
      ],
      "metadata": {
        "id": "xyPVAvvxiAR_"
      }
    },
    {
      "cell_type": "code",
      "source": [
        "def blacklist_identifier(black_list,input_string):\n",
        "    \n",
        "    input_string = input_string.lower()       # change all string input to lowercase to be safe\n",
        "    input_list = input_string.split(' ')      # split sentences into list of words\n",
        "\n",
        "    for a in black_list:                      # check one by one word in blacklist\n",
        "\n",
        "        for b in input_list:                  # check one by one word in input list\n",
        "\n",
        "            if a == b:\n",
        "              return \"Ada Black-List Word\"\n",
        "            else\n",
        "              pass\n",
        "\n",
        "    return \"Tidak ada Black-List Word\""
      ],
      "metadata": {
        "id": "G9Q0Lp23iEqX"
      },
      "execution_count": null,
      "outputs": []
    },
    {
      "cell_type": "markdown",
      "source": [
        "Test the Code"
      ],
      "metadata": {
        "id": "r8epOtZYonx1"
      }
    },
    {
      "cell_type": "code",
      "source": [
        "input_string = \"Andi sedang makan nasi padang\"\n",
        "blacklist_identifier(black_list, input_string)"
      ],
      "metadata": {
        "colab": {
          "base_uri": "https://localhost:8080/",
          "height": 35
        },
        "id": "uVflUtizoruF",
        "outputId": "911127e2-c066-4fb5-a09c-8acb80e1b391"
      },
      "execution_count": null,
      "outputs": [
        {
          "output_type": "execute_result",
          "data": {
            "application/vnd.google.colaboratory.intrinsic+json": {
              "type": "string"
            },
            "text/plain": [
              "'Ada Black-List Word'"
            ]
          },
          "metadata": {},
          "execution_count": 179
        }
      ]
    },
    {
      "cell_type": "code",
      "source": [
        "input_string = \"Sandi sedang bermain tenis\"\n",
        "blacklist_identifier(black_list, input_string)"
      ],
      "metadata": {
        "colab": {
          "base_uri": "https://localhost:8080/",
          "height": 35
        },
        "id": "_cBLX2fHo91w",
        "outputId": "0ea0d2d2-7572-4d5f-f3e7-a0d5175aa25e"
      },
      "execution_count": null,
      "outputs": [
        {
          "output_type": "execute_result",
          "data": {
            "application/vnd.google.colaboratory.intrinsic+json": {
              "type": "string"
            },
            "text/plain": [
              "'Tidak ada Black-List Word'"
            ]
          },
          "metadata": {},
          "execution_count": 180
        }
      ]
    },
    {
      "cell_type": "code",
      "source": [
        "input_string = \"Andi dan Sandi sedang makan\"\n",
        "blacklist_identifier(black_list, input_string)"
      ],
      "metadata": {
        "colab": {
          "base_uri": "https://localhost:8080/",
          "height": 35
        },
        "id": "G6Otu1TltTw2",
        "outputId": "6546ebc3-05bc-404e-845a-9930f8eceef7"
      },
      "execution_count": null,
      "outputs": [
        {
          "output_type": "execute_result",
          "data": {
            "application/vnd.google.colaboratory.intrinsic+json": {
              "type": "string"
            },
            "text/plain": [
              "'Ada Black-List Word'"
            ]
          },
          "metadata": {},
          "execution_count": 181
        }
      ]
    },
    {
      "cell_type": "code",
      "source": [
        "input_string = \"Budi dan Susi sedang makan\"\n",
        "blacklist_identifier(black_list, input_string)"
      ],
      "metadata": {
        "colab": {
          "base_uri": "https://localhost:8080/",
          "height": 35
        },
        "id": "Myum-f6ftavE",
        "outputId": "2bef1712-2d29-4514-ed70-5156391ec768"
      },
      "execution_count": null,
      "outputs": [
        {
          "output_type": "execute_result",
          "data": {
            "application/vnd.google.colaboratory.intrinsic+json": {
              "type": "string"
            },
            "text/plain": [
              "'Ada Black-List Word'"
            ]
          },
          "metadata": {},
          "execution_count": 182
        }
      ]
    },
    {
      "cell_type": "code",
      "source": [
        "input_string = \"Erna sedang berenang\"\n",
        "blacklist_identifier(black_list, input_string)"
      ],
      "metadata": {
        "colab": {
          "base_uri": "https://localhost:8080/",
          "height": 35
        },
        "id": "F6hprzkWtftb",
        "outputId": "466d53b2-a23a-44f0-bd0d-4397102ef9ad"
      },
      "execution_count": null,
      "outputs": [
        {
          "output_type": "execute_result",
          "data": {
            "application/vnd.google.colaboratory.intrinsic+json": {
              "type": "string"
            },
            "text/plain": [
              "'Tidak ada Black-List Word'"
            ]
          },
          "metadata": {},
          "execution_count": 183
        }
      ]
    },
    {
      "cell_type": "code",
      "source": [
        "input_string = \"Raffa sedang makan bermain bola\"\n",
        "blacklist_identifier(black_list, input_string)"
      ],
      "metadata": {
        "colab": {
          "base_uri": "https://localhost:8080/",
          "height": 35
        },
        "id": "N5xE8Su8tjoV",
        "outputId": "6dcd415c-90fc-4a5f-bb5d-43fca7f31a26"
      },
      "execution_count": null,
      "outputs": [
        {
          "output_type": "execute_result",
          "data": {
            "application/vnd.google.colaboratory.intrinsic+json": {
              "type": "string"
            },
            "text/plain": [
              "'Ada Black-List Word'"
            ]
          },
          "metadata": {},
          "execution_count": 184
        }
      ]
    }
  ]
}
