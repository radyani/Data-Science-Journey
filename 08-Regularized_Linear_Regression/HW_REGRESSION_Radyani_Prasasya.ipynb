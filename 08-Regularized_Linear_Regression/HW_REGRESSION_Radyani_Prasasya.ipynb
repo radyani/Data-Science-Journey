{
  "nbformat": 4,
  "nbformat_minor": 0,
  "metadata": {
    "colab": {
      "name": "HW_REGRESSION_Radyani Prasasya.ipynb",
      "provenance": [],
      "toc_visible": true,
      "authorship_tag": "ABX9TyPhp/j+yz5TtAS0AMTu9/+k",
      "include_colab_link": true
    },
    "kernelspec": {
      "name": "python3",
      "display_name": "Python 3"
    },
    "language_info": {
      "name": "python"
    }
  },
  "cells": [
    {
      "cell_type": "markdown",
      "metadata": {
        "id": "view-in-github",
        "colab_type": "text"
      },
      "source": [
        "<a href=\"https://colab.research.google.com/github/radyani/Data-Science-Journey/blob/main/08-Regularized_Linear_Regression/HW_REGRESSION_Radyani_Prasasya.ipynb\" target=\"_parent\"><img src=\"https://colab.research.google.com/assets/colab-badge.svg\" alt=\"Open In Colab\"/></a>"
      ]
    },
    {
      "cell_type": "markdown",
      "source": [
        "# **Regularized Linear Regression**"
      ],
      "metadata": {
        "id": "mZyKWeuxQNn9"
      }
    },
    {
      "cell_type": "markdown",
      "source": [
        "1. Split data: train - validate - test (point: 10)\n",
        "2. Draw correlation plot on training data and perform feature selection on\n",
        "highly correlated features (point: 10)\n",
        "3. Fit models on training data (lambdas = [0.01, 0.1, 1, 10]) (point:50)\n",
        "a. Ridge regression (point: 25)\n",
        "b. LASSO (point: 25)\n",
        "4. Choose the best lambda from the validation set (point: 20)\n",
        "a. Use RMSE as metric\n",
        "b. Interpret a sample of the coefficients of the best model\n",
        "i. Ridge regression\n",
        "ii. LASSO\n",
        "\n",
        "5. Evaluate the best models on the test data (+ interpretation) (point: 10)\n",
        "a. MAE\n",
        "b. MAPE\n",
        "c. RMSE"
      ],
      "metadata": {
        "id": "iF6nNA4MQKVs"
      }
    },
    {
      "cell_type": "markdown",
      "source": [
        "### **Libraries**"
      ],
      "metadata": {
        "id": "yIRwdKy4Bxxw"
      }
    },
    {
      "cell_type": "code",
      "execution_count": 355,
      "metadata": {
        "id": "PGpd_hqtb9cQ"
      },
      "outputs": [],
      "source": [
        "import numpy as np\n",
        "import pandas as pd\n",
        "import seaborn as sns\n",
        "import matplotlib.pyplot as plt"
      ]
    },
    {
      "cell_type": "markdown",
      "source": [
        "### **Dataset**"
      ],
      "metadata": {
        "id": "pyBbf8hXB1UF"
      }
    },
    {
      "cell_type": "markdown",
      "source": [
        "The data is about predicting housing price (medv) in\n",
        "Boston city, features:\n",
        "1. Criminal rate (crim)\n",
        "2. Residential land zoned proportion (zn)\n",
        "3. Non-retail business acres proportion (indus)\n",
        "4. Is bounds with river (chas)\n",
        "5. Nitrogen oxides concentration (nox)\n",
        "6. Number rooms average (rm)\n",
        "7. Owner age proportion (age)\n",
        "8. Weighted distance to cities (dis)\n",
        "9. Accessibility index (rad)\n",
        "10. Tax rate (tax)\n",
        "11. Pupil-teacher ratio (ptratio)\n",
        "12. Black proportion (black)\n",
        "13. Percent lower status (lstat)"
      ],
      "metadata": {
        "id": "7KJ0cG9UQW7G"
      }
    },
    {
      "cell_type": "code",
      "source": [
        "from google.colab import drive\n",
        "drive.mount('/content/drive')"
      ],
      "metadata": {
        "colab": {
          "base_uri": "https://localhost:8080/"
        },
        "id": "tjiD9TrHB81R",
        "outputId": "81728f27-3847-4122-9e26-0172bad852a8"
      },
      "execution_count": 356,
      "outputs": [
        {
          "output_type": "stream",
          "name": "stdout",
          "text": [
            "Drive already mounted at /content/drive; to attempt to forcibly remount, call drive.mount(\"/content/drive\", force_remount=True).\n"
          ]
        }
      ]
    },
    {
      "cell_type": "code",
      "source": [
        "df = pd.read_csv('/content/drive/MyDrive/Colab Notebooks/Dataset/boston.csv')"
      ],
      "metadata": {
        "id": "eK0U_LqnbCMr"
      },
      "execution_count": 357,
      "outputs": []
    },
    {
      "cell_type": "code",
      "source": [
        "df.head()"
      ],
      "metadata": {
        "colab": {
          "base_uri": "https://localhost:8080/",
          "height": 206
        },
        "id": "pLSwtixrbHbZ",
        "outputId": "6a710fd3-caf1-4db5-c387-db591d5a57ee"
      },
      "execution_count": 358,
      "outputs": [
        {
          "output_type": "execute_result",
          "data": {
            "text/plain": [
              "      crim    zn  indus  chas    nox     rm   age     dis  rad  tax  ptratio  \\\n",
              "0  0.00632  18.0   2.31     0  0.538  6.575  65.2  4.0900    1  296     15.3   \n",
              "1  0.02731   0.0   7.07     0  0.469  6.421  78.9  4.9671    2  242     17.8   \n",
              "2  0.02729   0.0   7.07     0  0.469  7.185  61.1  4.9671    2  242     17.8   \n",
              "3  0.03237   0.0   2.18     0  0.458  6.998  45.8  6.0622    3  222     18.7   \n",
              "4  0.06905   0.0   2.18     0  0.458  7.147  54.2  6.0622    3  222     18.7   \n",
              "\n",
              "    black  lstat  medv  \n",
              "0  396.90   4.98  24.0  \n",
              "1  396.90   9.14  21.6  \n",
              "2  392.83   4.03  34.7  \n",
              "3  394.63   2.94  33.4  \n",
              "4  396.90   5.33  36.2  "
            ],
            "text/html": [
              "\n",
              "  <div id=\"df-0fe2c8d6-929c-4920-b2f3-d7047dfb7563\">\n",
              "    <div class=\"colab-df-container\">\n",
              "      <div>\n",
              "<style scoped>\n",
              "    .dataframe tbody tr th:only-of-type {\n",
              "        vertical-align: middle;\n",
              "    }\n",
              "\n",
              "    .dataframe tbody tr th {\n",
              "        vertical-align: top;\n",
              "    }\n",
              "\n",
              "    .dataframe thead th {\n",
              "        text-align: right;\n",
              "    }\n",
              "</style>\n",
              "<table border=\"1\" class=\"dataframe\">\n",
              "  <thead>\n",
              "    <tr style=\"text-align: right;\">\n",
              "      <th></th>\n",
              "      <th>crim</th>\n",
              "      <th>zn</th>\n",
              "      <th>indus</th>\n",
              "      <th>chas</th>\n",
              "      <th>nox</th>\n",
              "      <th>rm</th>\n",
              "      <th>age</th>\n",
              "      <th>dis</th>\n",
              "      <th>rad</th>\n",
              "      <th>tax</th>\n",
              "      <th>ptratio</th>\n",
              "      <th>black</th>\n",
              "      <th>lstat</th>\n",
              "      <th>medv</th>\n",
              "    </tr>\n",
              "  </thead>\n",
              "  <tbody>\n",
              "    <tr>\n",
              "      <th>0</th>\n",
              "      <td>0.00632</td>\n",
              "      <td>18.0</td>\n",
              "      <td>2.31</td>\n",
              "      <td>0</td>\n",
              "      <td>0.538</td>\n",
              "      <td>6.575</td>\n",
              "      <td>65.2</td>\n",
              "      <td>4.0900</td>\n",
              "      <td>1</td>\n",
              "      <td>296</td>\n",
              "      <td>15.3</td>\n",
              "      <td>396.90</td>\n",
              "      <td>4.98</td>\n",
              "      <td>24.0</td>\n",
              "    </tr>\n",
              "    <tr>\n",
              "      <th>1</th>\n",
              "      <td>0.02731</td>\n",
              "      <td>0.0</td>\n",
              "      <td>7.07</td>\n",
              "      <td>0</td>\n",
              "      <td>0.469</td>\n",
              "      <td>6.421</td>\n",
              "      <td>78.9</td>\n",
              "      <td>4.9671</td>\n",
              "      <td>2</td>\n",
              "      <td>242</td>\n",
              "      <td>17.8</td>\n",
              "      <td>396.90</td>\n",
              "      <td>9.14</td>\n",
              "      <td>21.6</td>\n",
              "    </tr>\n",
              "    <tr>\n",
              "      <th>2</th>\n",
              "      <td>0.02729</td>\n",
              "      <td>0.0</td>\n",
              "      <td>7.07</td>\n",
              "      <td>0</td>\n",
              "      <td>0.469</td>\n",
              "      <td>7.185</td>\n",
              "      <td>61.1</td>\n",
              "      <td>4.9671</td>\n",
              "      <td>2</td>\n",
              "      <td>242</td>\n",
              "      <td>17.8</td>\n",
              "      <td>392.83</td>\n",
              "      <td>4.03</td>\n",
              "      <td>34.7</td>\n",
              "    </tr>\n",
              "    <tr>\n",
              "      <th>3</th>\n",
              "      <td>0.03237</td>\n",
              "      <td>0.0</td>\n",
              "      <td>2.18</td>\n",
              "      <td>0</td>\n",
              "      <td>0.458</td>\n",
              "      <td>6.998</td>\n",
              "      <td>45.8</td>\n",
              "      <td>6.0622</td>\n",
              "      <td>3</td>\n",
              "      <td>222</td>\n",
              "      <td>18.7</td>\n",
              "      <td>394.63</td>\n",
              "      <td>2.94</td>\n",
              "      <td>33.4</td>\n",
              "    </tr>\n",
              "    <tr>\n",
              "      <th>4</th>\n",
              "      <td>0.06905</td>\n",
              "      <td>0.0</td>\n",
              "      <td>2.18</td>\n",
              "      <td>0</td>\n",
              "      <td>0.458</td>\n",
              "      <td>7.147</td>\n",
              "      <td>54.2</td>\n",
              "      <td>6.0622</td>\n",
              "      <td>3</td>\n",
              "      <td>222</td>\n",
              "      <td>18.7</td>\n",
              "      <td>396.90</td>\n",
              "      <td>5.33</td>\n",
              "      <td>36.2</td>\n",
              "    </tr>\n",
              "  </tbody>\n",
              "</table>\n",
              "</div>\n",
              "      <button class=\"colab-df-convert\" onclick=\"convertToInteractive('df-0fe2c8d6-929c-4920-b2f3-d7047dfb7563')\"\n",
              "              title=\"Convert this dataframe to an interactive table.\"\n",
              "              style=\"display:none;\">\n",
              "        \n",
              "  <svg xmlns=\"http://www.w3.org/2000/svg\" height=\"24px\"viewBox=\"0 0 24 24\"\n",
              "       width=\"24px\">\n",
              "    <path d=\"M0 0h24v24H0V0z\" fill=\"none\"/>\n",
              "    <path d=\"M18.56 5.44l.94 2.06.94-2.06 2.06-.94-2.06-.94-.94-2.06-.94 2.06-2.06.94zm-11 1L8.5 8.5l.94-2.06 2.06-.94-2.06-.94L8.5 2.5l-.94 2.06-2.06.94zm10 10l.94 2.06.94-2.06 2.06-.94-2.06-.94-.94-2.06-.94 2.06-2.06.94z\"/><path d=\"M17.41 7.96l-1.37-1.37c-.4-.4-.92-.59-1.43-.59-.52 0-1.04.2-1.43.59L10.3 9.45l-7.72 7.72c-.78.78-.78 2.05 0 2.83L4 21.41c.39.39.9.59 1.41.59.51 0 1.02-.2 1.41-.59l7.78-7.78 2.81-2.81c.8-.78.8-2.07 0-2.86zM5.41 20L4 18.59l7.72-7.72 1.47 1.35L5.41 20z\"/>\n",
              "  </svg>\n",
              "      </button>\n",
              "      \n",
              "  <style>\n",
              "    .colab-df-container {\n",
              "      display:flex;\n",
              "      flex-wrap:wrap;\n",
              "      gap: 12px;\n",
              "    }\n",
              "\n",
              "    .colab-df-convert {\n",
              "      background-color: #E8F0FE;\n",
              "      border: none;\n",
              "      border-radius: 50%;\n",
              "      cursor: pointer;\n",
              "      display: none;\n",
              "      fill: #1967D2;\n",
              "      height: 32px;\n",
              "      padding: 0 0 0 0;\n",
              "      width: 32px;\n",
              "    }\n",
              "\n",
              "    .colab-df-convert:hover {\n",
              "      background-color: #E2EBFA;\n",
              "      box-shadow: 0px 1px 2px rgba(60, 64, 67, 0.3), 0px 1px 3px 1px rgba(60, 64, 67, 0.15);\n",
              "      fill: #174EA6;\n",
              "    }\n",
              "\n",
              "    [theme=dark] .colab-df-convert {\n",
              "      background-color: #3B4455;\n",
              "      fill: #D2E3FC;\n",
              "    }\n",
              "\n",
              "    [theme=dark] .colab-df-convert:hover {\n",
              "      background-color: #434B5C;\n",
              "      box-shadow: 0px 1px 3px 1px rgba(0, 0, 0, 0.15);\n",
              "      filter: drop-shadow(0px 1px 2px rgba(0, 0, 0, 0.3));\n",
              "      fill: #FFFFFF;\n",
              "    }\n",
              "  </style>\n",
              "\n",
              "      <script>\n",
              "        const buttonEl =\n",
              "          document.querySelector('#df-0fe2c8d6-929c-4920-b2f3-d7047dfb7563 button.colab-df-convert');\n",
              "        buttonEl.style.display =\n",
              "          google.colab.kernel.accessAllowed ? 'block' : 'none';\n",
              "\n",
              "        async function convertToInteractive(key) {\n",
              "          const element = document.querySelector('#df-0fe2c8d6-929c-4920-b2f3-d7047dfb7563');\n",
              "          const dataTable =\n",
              "            await google.colab.kernel.invokeFunction('convertToInteractive',\n",
              "                                                     [key], {});\n",
              "          if (!dataTable) return;\n",
              "\n",
              "          const docLinkHtml = 'Like what you see? Visit the ' +\n",
              "            '<a target=\"_blank\" href=https://colab.research.google.com/notebooks/data_table.ipynb>data table notebook</a>'\n",
              "            + ' to learn more about interactive tables.';\n",
              "          element.innerHTML = '';\n",
              "          dataTable['output_type'] = 'display_data';\n",
              "          await google.colab.output.renderOutput(dataTable, element);\n",
              "          const docLink = document.createElement('div');\n",
              "          docLink.innerHTML = docLinkHtml;\n",
              "          element.appendChild(docLink);\n",
              "        }\n",
              "      </script>\n",
              "    </div>\n",
              "  </div>\n",
              "  "
            ]
          },
          "metadata": {},
          "execution_count": 358
        }
      ]
    },
    {
      "cell_type": "code",
      "source": [
        "df.info()"
      ],
      "metadata": {
        "id": "Nqxr7FiYbaDF",
        "outputId": "fb0bb701-9f1e-44db-be8c-df52c27a5f94",
        "colab": {
          "base_uri": "https://localhost:8080/"
        }
      },
      "execution_count": 359,
      "outputs": [
        {
          "output_type": "stream",
          "name": "stdout",
          "text": [
            "<class 'pandas.core.frame.DataFrame'>\n",
            "RangeIndex: 506 entries, 0 to 505\n",
            "Data columns (total 14 columns):\n",
            " #   Column   Non-Null Count  Dtype  \n",
            "---  ------   --------------  -----  \n",
            " 0   crim     506 non-null    float64\n",
            " 1   zn       506 non-null    float64\n",
            " 2   indus    506 non-null    float64\n",
            " 3   chas     506 non-null    int64  \n",
            " 4   nox      506 non-null    float64\n",
            " 5   rm       506 non-null    float64\n",
            " 6   age      506 non-null    float64\n",
            " 7   dis      506 non-null    float64\n",
            " 8   rad      506 non-null    int64  \n",
            " 9   tax      506 non-null    int64  \n",
            " 10  ptratio  506 non-null    float64\n",
            " 11  black    506 non-null    float64\n",
            " 12  lstat    506 non-null    float64\n",
            " 13  medv     506 non-null    float64\n",
            "dtypes: float64(11), int64(3)\n",
            "memory usage: 55.5 KB\n"
          ]
        }
      ]
    },
    {
      "cell_type": "markdown",
      "source": [
        "# **1. Split Data**"
      ],
      "metadata": {
        "id": "drS8McgDnuKa"
      }
    },
    {
      "cell_type": "markdown",
      "source": [
        "## **Split into 3 Sets**"
      ],
      "metadata": {
        "id": "6xKnMMOFjKjd"
      }
    },
    {
      "cell_type": "code",
      "source": [
        "# Split the data in 80:10:10 for train:validate:test dataset\n",
        "\n",
        "from sklearn.model_selection import train_test_split\n",
        "\n",
        "train_size=0.8\n",
        "\n",
        "X = df.drop(columns = ['medv']).copy()\n",
        "y = df['medv']\n",
        "\n",
        "X_train, X_rem, y_train, y_rem = train_test_split(X,y, train_size=0.8)\n",
        "\n",
        "test_size = 0.5\n",
        "X_valid, X_test, y_valid, y_test = train_test_split(X_rem,y_rem, test_size=0.5)\n",
        "\n",
        "print(X_train.shape)\n",
        "print(X_valid.shape)\n",
        "print(X_test.shape)"
      ],
      "metadata": {
        "colab": {
          "base_uri": "https://localhost:8080/"
        },
        "id": "2j3JdG9rgrjz",
        "outputId": "1c63e73f-1eb5-424c-b65c-068849c38ace"
      },
      "execution_count": 360,
      "outputs": [
        {
          "output_type": "stream",
          "name": "stdout",
          "text": [
            "(404, 13)\n",
            "(51, 13)\n",
            "(51, 13)\n"
          ]
        }
      ]
    },
    {
      "cell_type": "markdown",
      "source": [
        "## **VIF Scores**"
      ],
      "metadata": {
        "id": "VO6u9Za0jRMl"
      }
    },
    {
      "cell_type": "code",
      "source": [
        "from statsmodels.stats.outliers_influence import variance_inflation_factor as vif \n",
        "from statsmodels.tools.tools import add_constant\n",
        "\n",
        "X = add_constant(X_train)\n",
        "\n",
        "vif_df = pd.DataFrame([vif(X.values, i) \n",
        "               for i in range(X.shape[1])], \n",
        "              index=X.columns).reset_index()\n",
        "vif_df.columns = ['feature','vif_score']\n",
        "vif_df = vif_df.loc[vif_df.feature!='const']\n",
        "vif_df"
      ],
      "metadata": {
        "colab": {
          "base_uri": "https://localhost:8080/",
          "height": 514
        },
        "id": "TqSUUZKTn6VX",
        "outputId": "8b4da97b-ccf2-4131-e1f0-a74ba78fcd5c"
      },
      "execution_count": 361,
      "outputs": [
        {
          "output_type": "stream",
          "name": "stderr",
          "text": [
            "/usr/local/lib/python3.7/dist-packages/statsmodels/tsa/tsatools.py:117: FutureWarning: In a future version of pandas all arguments of concat except for the argument 'objs' will be keyword-only\n",
            "  x = pd.concat(x[::order], 1)\n"
          ]
        },
        {
          "output_type": "execute_result",
          "data": {
            "text/plain": [
              "    feature  vif_score\n",
              "1      crim   2.200034\n",
              "2        zn   2.300358\n",
              "3     indus   3.815790\n",
              "4      chas   1.081279\n",
              "5       nox   4.509398\n",
              "6        rm   2.028644\n",
              "7       age   3.059377\n",
              "8       dis   4.080544\n",
              "9       rad   7.793114\n",
              "10      tax   8.700838\n",
              "11  ptratio   1.721063\n",
              "12    black   1.336525\n",
              "13    lstat   2.885695"
            ],
            "text/html": [
              "\n",
              "  <div id=\"df-c4dc3f6d-f8fe-4e36-92a1-e4a09d3b03ab\">\n",
              "    <div class=\"colab-df-container\">\n",
              "      <div>\n",
              "<style scoped>\n",
              "    .dataframe tbody tr th:only-of-type {\n",
              "        vertical-align: middle;\n",
              "    }\n",
              "\n",
              "    .dataframe tbody tr th {\n",
              "        vertical-align: top;\n",
              "    }\n",
              "\n",
              "    .dataframe thead th {\n",
              "        text-align: right;\n",
              "    }\n",
              "</style>\n",
              "<table border=\"1\" class=\"dataframe\">\n",
              "  <thead>\n",
              "    <tr style=\"text-align: right;\">\n",
              "      <th></th>\n",
              "      <th>feature</th>\n",
              "      <th>vif_score</th>\n",
              "    </tr>\n",
              "  </thead>\n",
              "  <tbody>\n",
              "    <tr>\n",
              "      <th>1</th>\n",
              "      <td>crim</td>\n",
              "      <td>2.200034</td>\n",
              "    </tr>\n",
              "    <tr>\n",
              "      <th>2</th>\n",
              "      <td>zn</td>\n",
              "      <td>2.300358</td>\n",
              "    </tr>\n",
              "    <tr>\n",
              "      <th>3</th>\n",
              "      <td>indus</td>\n",
              "      <td>3.815790</td>\n",
              "    </tr>\n",
              "    <tr>\n",
              "      <th>4</th>\n",
              "      <td>chas</td>\n",
              "      <td>1.081279</td>\n",
              "    </tr>\n",
              "    <tr>\n",
              "      <th>5</th>\n",
              "      <td>nox</td>\n",
              "      <td>4.509398</td>\n",
              "    </tr>\n",
              "    <tr>\n",
              "      <th>6</th>\n",
              "      <td>rm</td>\n",
              "      <td>2.028644</td>\n",
              "    </tr>\n",
              "    <tr>\n",
              "      <th>7</th>\n",
              "      <td>age</td>\n",
              "      <td>3.059377</td>\n",
              "    </tr>\n",
              "    <tr>\n",
              "      <th>8</th>\n",
              "      <td>dis</td>\n",
              "      <td>4.080544</td>\n",
              "    </tr>\n",
              "    <tr>\n",
              "      <th>9</th>\n",
              "      <td>rad</td>\n",
              "      <td>7.793114</td>\n",
              "    </tr>\n",
              "    <tr>\n",
              "      <th>10</th>\n",
              "      <td>tax</td>\n",
              "      <td>8.700838</td>\n",
              "    </tr>\n",
              "    <tr>\n",
              "      <th>11</th>\n",
              "      <td>ptratio</td>\n",
              "      <td>1.721063</td>\n",
              "    </tr>\n",
              "    <tr>\n",
              "      <th>12</th>\n",
              "      <td>black</td>\n",
              "      <td>1.336525</td>\n",
              "    </tr>\n",
              "    <tr>\n",
              "      <th>13</th>\n",
              "      <td>lstat</td>\n",
              "      <td>2.885695</td>\n",
              "    </tr>\n",
              "  </tbody>\n",
              "</table>\n",
              "</div>\n",
              "      <button class=\"colab-df-convert\" onclick=\"convertToInteractive('df-c4dc3f6d-f8fe-4e36-92a1-e4a09d3b03ab')\"\n",
              "              title=\"Convert this dataframe to an interactive table.\"\n",
              "              style=\"display:none;\">\n",
              "        \n",
              "  <svg xmlns=\"http://www.w3.org/2000/svg\" height=\"24px\"viewBox=\"0 0 24 24\"\n",
              "       width=\"24px\">\n",
              "    <path d=\"M0 0h24v24H0V0z\" fill=\"none\"/>\n",
              "    <path d=\"M18.56 5.44l.94 2.06.94-2.06 2.06-.94-2.06-.94-.94-2.06-.94 2.06-2.06.94zm-11 1L8.5 8.5l.94-2.06 2.06-.94-2.06-.94L8.5 2.5l-.94 2.06-2.06.94zm10 10l.94 2.06.94-2.06 2.06-.94-2.06-.94-.94-2.06-.94 2.06-2.06.94z\"/><path d=\"M17.41 7.96l-1.37-1.37c-.4-.4-.92-.59-1.43-.59-.52 0-1.04.2-1.43.59L10.3 9.45l-7.72 7.72c-.78.78-.78 2.05 0 2.83L4 21.41c.39.39.9.59 1.41.59.51 0 1.02-.2 1.41-.59l7.78-7.78 2.81-2.81c.8-.78.8-2.07 0-2.86zM5.41 20L4 18.59l7.72-7.72 1.47 1.35L5.41 20z\"/>\n",
              "  </svg>\n",
              "      </button>\n",
              "      \n",
              "  <style>\n",
              "    .colab-df-container {\n",
              "      display:flex;\n",
              "      flex-wrap:wrap;\n",
              "      gap: 12px;\n",
              "    }\n",
              "\n",
              "    .colab-df-convert {\n",
              "      background-color: #E8F0FE;\n",
              "      border: none;\n",
              "      border-radius: 50%;\n",
              "      cursor: pointer;\n",
              "      display: none;\n",
              "      fill: #1967D2;\n",
              "      height: 32px;\n",
              "      padding: 0 0 0 0;\n",
              "      width: 32px;\n",
              "    }\n",
              "\n",
              "    .colab-df-convert:hover {\n",
              "      background-color: #E2EBFA;\n",
              "      box-shadow: 0px 1px 2px rgba(60, 64, 67, 0.3), 0px 1px 3px 1px rgba(60, 64, 67, 0.15);\n",
              "      fill: #174EA6;\n",
              "    }\n",
              "\n",
              "    [theme=dark] .colab-df-convert {\n",
              "      background-color: #3B4455;\n",
              "      fill: #D2E3FC;\n",
              "    }\n",
              "\n",
              "    [theme=dark] .colab-df-convert:hover {\n",
              "      background-color: #434B5C;\n",
              "      box-shadow: 0px 1px 3px 1px rgba(0, 0, 0, 0.15);\n",
              "      filter: drop-shadow(0px 1px 2px rgba(0, 0, 0, 0.3));\n",
              "      fill: #FFFFFF;\n",
              "    }\n",
              "  </style>\n",
              "\n",
              "      <script>\n",
              "        const buttonEl =\n",
              "          document.querySelector('#df-c4dc3f6d-f8fe-4e36-92a1-e4a09d3b03ab button.colab-df-convert');\n",
              "        buttonEl.style.display =\n",
              "          google.colab.kernel.accessAllowed ? 'block' : 'none';\n",
              "\n",
              "        async function convertToInteractive(key) {\n",
              "          const element = document.querySelector('#df-c4dc3f6d-f8fe-4e36-92a1-e4a09d3b03ab');\n",
              "          const dataTable =\n",
              "            await google.colab.kernel.invokeFunction('convertToInteractive',\n",
              "                                                     [key], {});\n",
              "          if (!dataTable) return;\n",
              "\n",
              "          const docLinkHtml = 'Like what you see? Visit the ' +\n",
              "            '<a target=\"_blank\" href=https://colab.research.google.com/notebooks/data_table.ipynb>data table notebook</a>'\n",
              "            + ' to learn more about interactive tables.';\n",
              "          element.innerHTML = '';\n",
              "          dataTable['output_type'] = 'display_data';\n",
              "          await google.colab.output.renderOutput(dataTable, element);\n",
              "          const docLink = document.createElement('div');\n",
              "          docLink.innerHTML = docLinkHtml;\n",
              "          element.appendChild(docLink);\n",
              "        }\n",
              "      </script>\n",
              "    </div>\n",
              "  </div>\n",
              "  "
            ]
          },
          "metadata": {},
          "execution_count": 361
        }
      ]
    },
    {
      "cell_type": "markdown",
      "source": [
        "Features with High VIF Scores:\n",
        "1. `rad`\n",
        "2. `tax`"
      ],
      "metadata": {
        "id": "kYbPwW0An9mI"
      }
    },
    {
      "cell_type": "markdown",
      "source": [
        "# **2. Correlation and Feature Selection**"
      ],
      "metadata": {
        "id": "Q24CEzR-p3Y4"
      }
    },
    {
      "cell_type": "markdown",
      "source": [
        "## **Correlation Map**"
      ],
      "metadata": {
        "id": "vrkdA548w2zG"
      }
    },
    {
      "cell_type": "code",
      "source": [
        "df_train = pd.concat([X_train, y_train], axis=1)\n",
        "corr = df_train.corr()\n",
        "\n",
        "plt.figure(figsize=(10,7))\n",
        "sns.heatmap(corr, annot=True, fmt='.2f')\n",
        "plt.show()"
      ],
      "metadata": {
        "colab": {
          "base_uri": "https://localhost:8080/",
          "height": 432
        },
        "id": "0j9a3jx0n7Ov",
        "outputId": "68dc9841-177b-44b1-d043-fe80c2fd9a55"
      },
      "execution_count": 362,
      "outputs": [
        {
          "output_type": "display_data",
          "data": {
            "text/plain": [
              "<Figure size 720x504 with 2 Axes>"
            ],
            "image/png": "[encoded data removed]"
          },
          "metadata": {
            "needs_background": "light"
          }
        }
      ]
    },
    {
      "cell_type": "markdown",
      "source": [
        "## **Feature Selection**"
      ],
      "metadata": {
        "id": "2xqyrOMLwy1B"
      }
    },
    {
      "cell_type": "markdown",
      "source": [
        "Since both `rad` and `tax` have very high VIF compared to others, but `tax` have higher correlation (negative) to target `medv`. Thus `rad` is redundant."
      ],
      "metadata": {
        "id": "HSTxFfSxXl53"
      }
    },
    {
      "cell_type": "code",
      "source": [
        "# drop redundant features : rad\n",
        "X_train = X_train.drop(columns=['rad'])\n",
        "X_valid = X_valid.drop(columns=['rad'])\n",
        "X_test = X_test.drop(columns=['rad'])"
      ],
      "metadata": {
        "id": "2NEXMZ7rmFXG"
      },
      "execution_count": 363,
      "outputs": []
    },
    {
      "cell_type": "markdown",
      "source": [
        "**New VIF**"
      ],
      "metadata": {
        "id": "invSJJeloFAI"
      }
    },
    {
      "cell_type": "code",
      "source": [
        "X = add_constant(X_train)\n",
        "\n",
        "vif_df = pd.DataFrame([vif(X.values, i) \n",
        "               for i in range(X.shape[1])], \n",
        "              index=X.columns).reset_index()\n",
        "vif_df.columns = ['feature','vif_score']\n",
        "vif_df = vif_df.loc[vif_df.feature!='const']\n",
        "vif_df"
      ],
      "metadata": {
        "colab": {
          "base_uri": "https://localhost:8080/",
          "height": 482
        },
        "id": "QPI0FlhImfrr",
        "outputId": "92977bb8-6110-49ed-ee92-ba802216e644"
      },
      "execution_count": 364,
      "outputs": [
        {
          "output_type": "stream",
          "name": "stderr",
          "text": [
            "/usr/local/lib/python3.7/dist-packages/statsmodels/tsa/tsatools.py:117: FutureWarning: In a future version of pandas all arguments of concat except for the argument 'objs' will be keyword-only\n",
            "  x = pd.concat(x[::order], 1)\n"
          ]
        },
        {
          "output_type": "execute_result",
          "data": {
            "text/plain": [
              "    feature  vif_score\n",
              "1      crim   1.950854\n",
              "2        zn   2.271458\n",
              "3     indus   3.620009\n",
              "4      chas   1.072210\n",
              "5       nox   4.413812\n",
              "6        rm   1.970542\n",
              "7       age   3.048909\n",
              "8       dis   4.080112\n",
              "9       tax   3.449954\n",
              "10  ptratio   1.659311\n",
              "11    black   1.335167\n",
              "12    lstat   2.885669"
            ],
            "text/html": [
              "\n",
              "  <div id=\"df-ed413709-d01e-44a8-ab7c-266d5b7785f8\">\n",
              "    <div class=\"colab-df-container\">\n",
              "      <div>\n",
              "<style scoped>\n",
              "    .dataframe tbody tr th:only-of-type {\n",
              "        vertical-align: middle;\n",
              "    }\n",
              "\n",
              "    .dataframe tbody tr th {\n",
              "        vertical-align: top;\n",
              "    }\n",
              "\n",
              "    .dataframe thead th {\n",
              "        text-align: right;\n",
              "    }\n",
              "</style>\n",
              "<table border=\"1\" class=\"dataframe\">\n",
              "  <thead>\n",
              "    <tr style=\"text-align: right;\">\n",
              "      <th></th>\n",
              "      <th>feature</th>\n",
              "      <th>vif_score</th>\n",
              "    </tr>\n",
              "  </thead>\n",
              "  <tbody>\n",
              "    <tr>\n",
              "      <th>1</th>\n",
              "      <td>crim</td>\n",
              "      <td>1.950854</td>\n",
              "    </tr>\n",
              "    <tr>\n",
              "      <th>2</th>\n",
              "      <td>zn</td>\n",
              "      <td>2.271458</td>\n",
              "    </tr>\n",
              "    <tr>\n",
              "      <th>3</th>\n",
              "      <td>indus</td>\n",
              "      <td>3.620009</td>\n",
              "    </tr>\n",
              "    <tr>\n",
              "      <th>4</th>\n",
              "      <td>chas</td>\n",
              "      <td>1.072210</td>\n",
              "    </tr>\n",
              "    <tr>\n",
              "      <th>5</th>\n",
              "      <td>nox</td>\n",
              "      <td>4.413812</td>\n",
              "    </tr>\n",
              "    <tr>\n",
              "      <th>6</th>\n",
              "      <td>rm</td>\n",
              "      <td>1.970542</td>\n",
              "    </tr>\n",
              "    <tr>\n",
              "      <th>7</th>\n",
              "      <td>age</td>\n",
              "      <td>3.048909</td>\n",
              "    </tr>\n",
              "    <tr>\n",
              "      <th>8</th>\n",
              "      <td>dis</td>\n",
              "      <td>4.080112</td>\n",
              "    </tr>\n",
              "    <tr>\n",
              "      <th>9</th>\n",
              "      <td>tax</td>\n",
              "      <td>3.449954</td>\n",
              "    </tr>\n",
              "    <tr>\n",
              "      <th>10</th>\n",
              "      <td>ptratio</td>\n",
              "      <td>1.659311</td>\n",
              "    </tr>\n",
              "    <tr>\n",
              "      <th>11</th>\n",
              "      <td>black</td>\n",
              "      <td>1.335167</td>\n",
              "    </tr>\n",
              "    <tr>\n",
              "      <th>12</th>\n",
              "      <td>lstat</td>\n",
              "      <td>2.885669</td>\n",
              "    </tr>\n",
              "  </tbody>\n",
              "</table>\n",
              "</div>\n",
              "      <button class=\"colab-df-convert\" onclick=\"convertToInteractive('df-ed413709-d01e-44a8-ab7c-266d5b7785f8')\"\n",
              "              title=\"Convert this dataframe to an interactive table.\"\n",
              "              style=\"display:none;\">\n",
              "        \n",
              "  <svg xmlns=\"http://www.w3.org/2000/svg\" height=\"24px\"viewBox=\"0 0 24 24\"\n",
              "       width=\"24px\">\n",
              "    <path d=\"M0 0h24v24H0V0z\" fill=\"none\"/>\n",
              "    <path d=\"M18.56 5.44l.94 2.06.94-2.06 2.06-.94-2.06-.94-.94-2.06-.94 2.06-2.06.94zm-11 1L8.5 8.5l.94-2.06 2.06-.94-2.06-.94L8.5 2.5l-.94 2.06-2.06.94zm10 10l.94 2.06.94-2.06 2.06-.94-2.06-.94-.94-2.06-.94 2.06-2.06.94z\"/><path d=\"M17.41 7.96l-1.37-1.37c-.4-.4-.92-.59-1.43-.59-.52 0-1.04.2-1.43.59L10.3 9.45l-7.72 7.72c-.78.78-.78 2.05 0 2.83L4 21.41c.39.39.9.59 1.41.59.51 0 1.02-.2 1.41-.59l7.78-7.78 2.81-2.81c.8-.78.8-2.07 0-2.86zM5.41 20L4 18.59l7.72-7.72 1.47 1.35L5.41 20z\"/>\n",
              "  </svg>\n",
              "      </button>\n",
              "      \n",
              "  <style>\n",
              "    .colab-df-container {\n",
              "      display:flex;\n",
              "      flex-wrap:wrap;\n",
              "      gap: 12px;\n",
              "    }\n",
              "\n",
              "    .colab-df-convert {\n",
              "      background-color: #E8F0FE;\n",
              "      border: none;\n",
              "      border-radius: 50%;\n",
              "      cursor: pointer;\n",
              "      display: none;\n",
              "      fill: #1967D2;\n",
              "      height: 32px;\n",
              "      padding: 0 0 0 0;\n",
              "      width: 32px;\n",
              "    }\n",
              "\n",
              "    .colab-df-convert:hover {\n",
              "      background-color: #E2EBFA;\n",
              "      box-shadow: 0px 1px 2px rgba(60, 64, 67, 0.3), 0px 1px 3px 1px rgba(60, 64, 67, 0.15);\n",
              "      fill: #174EA6;\n",
              "    }\n",
              "\n",
              "    [theme=dark] .colab-df-convert {\n",
              "      background-color: #3B4455;\n",
              "      fill: #D2E3FC;\n",
              "    }\n",
              "\n",
              "    [theme=dark] .colab-df-convert:hover {\n",
              "      background-color: #434B5C;\n",
              "      box-shadow: 0px 1px 3px 1px rgba(0, 0, 0, 0.15);\n",
              "      filter: drop-shadow(0px 1px 2px rgba(0, 0, 0, 0.3));\n",
              "      fill: #FFFFFF;\n",
              "    }\n",
              "  </style>\n",
              "\n",
              "      <script>\n",
              "        const buttonEl =\n",
              "          document.querySelector('#df-ed413709-d01e-44a8-ab7c-266d5b7785f8 button.colab-df-convert');\n",
              "        buttonEl.style.display =\n",
              "          google.colab.kernel.accessAllowed ? 'block' : 'none';\n",
              "\n",
              "        async function convertToInteractive(key) {\n",
              "          const element = document.querySelector('#df-ed413709-d01e-44a8-ab7c-266d5b7785f8');\n",
              "          const dataTable =\n",
              "            await google.colab.kernel.invokeFunction('convertToInteractive',\n",
              "                                                     [key], {});\n",
              "          if (!dataTable) return;\n",
              "\n",
              "          const docLinkHtml = 'Like what you see? Visit the ' +\n",
              "            '<a target=\"_blank\" href=https://colab.research.google.com/notebooks/data_table.ipynb>data table notebook</a>'\n",
              "            + ' to learn more about interactive tables.';\n",
              "          element.innerHTML = '';\n",
              "          dataTable['output_type'] = 'display_data';\n",
              "          await google.colab.output.renderOutput(dataTable, element);\n",
              "          const docLink = document.createElement('div');\n",
              "          docLink.innerHTML = docLinkHtml;\n",
              "          element.appendChild(docLink);\n",
              "        }\n",
              "      </script>\n",
              "    </div>\n",
              "  </div>\n",
              "  "
            ]
          },
          "metadata": {},
          "execution_count": 364
        }
      ]
    },
    {
      "cell_type": "markdown",
      "source": [
        "# **3. Fit Models on Training Data**"
      ],
      "metadata": {
        "id": "7wmULH87oJz4"
      }
    },
    {
      "cell_type": "markdown",
      "source": [
        "## **a. Ridge Regression**"
      ],
      "metadata": {
        "id": "qPRRzr3c0ZLX"
      }
    },
    {
      "cell_type": "code",
      "source": [
        "from sklearn.linear_model import Ridge\n",
        "\n",
        "# train\n",
        "X_feat_train = X_train.to_numpy()\n",
        "y_tgt_train = y_train.to_numpy()\n",
        "y_tgt_train = y_tgt_train.reshape(len(y_train),)\n",
        "\n",
        "# define\n",
        "ridge_reg_pointzeroone = Ridge(alpha=0.01, random_state=42)\n",
        "ridge_reg_pointone = Ridge(alpha=0.1, random_state=42)\n",
        "ridge_reg_one = Ridge(alpha=1, random_state=42)\n",
        "ridge_reg_ten = Ridge(alpha=10, random_state=42)\n",
        "\n",
        "# fit (training)\n",
        "ridge_reg_pointzeroone.fit(X_feat_train, y_tgt_train)\n",
        "ridge_reg_pointone.fit(X_feat_train, y_tgt_train)\n",
        "ridge_reg_one.fit(X_feat_train, y_tgt_train)\n",
        "ridge_reg_ten.fit(X_feat_train, y_tgt_train)"
      ],
      "metadata": {
        "colab": {
          "base_uri": "https://localhost:8080/"
        },
        "id": "SbrlMJiJoIxX",
        "outputId": "089f7763-ff54-461f-8e68-06ded5528425"
      },
      "execution_count": 365,
      "outputs": [
        {
          "output_type": "execute_result",
          "data": {
            "text/plain": [
              "Ridge(alpha=10, random_state=42)"
            ]
          },
          "metadata": {},
          "execution_count": 365
        }
      ]
    },
    {
      "cell_type": "markdown",
      "source": [
        "## **b. LASSO**"
      ],
      "metadata": {
        "id": "1rKv717b0d3_"
      }
    },
    {
      "cell_type": "code",
      "source": [
        "from sklearn.linear_model import Lasso\n",
        "\n",
        "# define\n",
        "lasso_reg_pointzeroone = Lasso(alpha=0.01, random_state=42)\n",
        "lasso_reg_pointone = Lasso(alpha=0.1, random_state=42)\n",
        "lasso_reg_one = Lasso(alpha=1, random_state=42)\n",
        "lasso_reg_ten = Lasso(alpha=10, random_state=42)\n",
        "\n",
        "# fit (training)\n",
        "lasso_reg_pointzeroone.fit(X_feat_train, y_tgt_train)\n",
        "lasso_reg_pointone.fit(X_feat_train, y_tgt_train)\n",
        "lasso_reg_one.fit(X_feat_train, y_tgt_train)\n",
        "lasso_reg_ten.fit(X_feat_train, y_tgt_train)"
      ],
      "metadata": {
        "colab": {
          "base_uri": "https://localhost:8080/"
        },
        "id": "OskfE-Gt0gie",
        "outputId": "a242f1e4-1fae-4b69-f01b-225f79d67c05"
      },
      "execution_count": 366,
      "outputs": [
        {
          "output_type": "execute_result",
          "data": {
            "text/plain": [
              "Lasso(alpha=10, random_state=42)"
            ]
          },
          "metadata": {},
          "execution_count": 366
        }
      ]
    },
    {
      "cell_type": "markdown",
      "source": [
        "# **4. Best Lambda from Validation Set**"
      ],
      "metadata": {
        "id": "AA-hm8DA1rWx"
      }
    },
    {
      "cell_type": "markdown",
      "source": [
        "## **a. Ridge Regression**"
      ],
      "metadata": {
        "id": "4R-0GddO1xXB"
      }
    },
    {
      "cell_type": "markdown",
      "source": [
        "### **RMSE Analysis**"
      ],
      "metadata": {
        "id": "colUwklr2d43"
      }
    },
    {
      "cell_type": "code",
      "source": [
        "from sklearn.metrics import mean_squared_error\n",
        "\n",
        "X_valid = X_valid.to_numpy()\n",
        "y_valid = y_valid.to_numpy()\n",
        "y_valid = y_valid.reshape(len(y_valid),)\n",
        "\n",
        "alphas = [0.01, 0.1, 1., 10]\n",
        "models = [ridge_reg_pointzeroone,\n",
        "          ridge_reg_pointone,\n",
        "          ridge_reg_one,\n",
        "          ridge_reg_ten]\n",
        "\n",
        "for model, alpha in zip(models, alphas):\n",
        "    y_predict_validation = model.predict(X_valid)\n",
        "    rmse = np.sqrt(mean_squared_error(y_valid,y_predict_validation))\n",
        "    print(f'RMSE of Ridge regression model with alpha = {alpha} is {rmse}')"
      ],
      "metadata": {
        "colab": {
          "base_uri": "https://localhost:8080/"
        },
        "id": "vcqqLWZZ1wag",
        "outputId": "9d30af2d-f002-49f2-fb62-f4756c666314"
      },
      "execution_count": 367,
      "outputs": [
        {
          "output_type": "stream",
          "name": "stdout",
          "text": [
            "RMSE of Ridge regression model with alpha = 0.01 is 4.442432980070073\n",
            "RMSE of Ridge regression model with alpha = 0.1 is 4.449546795086336\n",
            "RMSE of Ridge regression model with alpha = 1.0 is 4.5082125856913\n",
            "RMSE of Ridge regression model with alpha = 10 is 4.649793866491419\n"
          ]
        }
      ]
    },
    {
      "cell_type": "markdown",
      "source": [
        "According to theory, smaller RMSE gives better model which in this case model with alpha = 0.01 with RMSE 4.442"
      ],
      "metadata": {
        "id": "HDjtOE5a3rZA"
      }
    },
    {
      "cell_type": "markdown",
      "source": [
        "### **Coefficient**"
      ],
      "metadata": {
        "id": "Wm2Xw51L4_QS"
      }
    },
    {
      "cell_type": "code",
      "source": [
        "# Using best model according to RMSE\n",
        "\n",
        "model = ridge_reg_pointzeroone\n",
        "\n",
        "coef_df = pd.DataFrame({\n",
        "    'feature':['intercept'] + X_train.columns.tolist(),\n",
        "    'coefficient':[model.intercept_] + list(model.coef_)\n",
        "})\n",
        "\n",
        "coef_df"
      ],
      "metadata": {
        "colab": {
          "base_uri": "https://localhost:8080/",
          "height": 457
        },
        "id": "I_UyI8P85JKx",
        "outputId": "6f29b363-57fd-49f6-d9c4-01f45677fdf2"
      },
      "execution_count": 368,
      "outputs": [
        {
          "output_type": "execute_result",
          "data": {
            "text/plain": [
              "      feature  coefficient\n",
              "0   intercept    32.100293\n",
              "1        crim    -0.042511\n",
              "2          zn     0.039198\n",
              "3       indus    -0.066741\n",
              "4        chas     1.703110\n",
              "5         nox   -15.242249\n",
              "6          rm     4.077449\n",
              "7         age    -0.000381\n",
              "8         dis    -1.435144\n",
              "9         tax     0.000739\n",
              "10    ptratio    -0.959742\n",
              "11      black     0.008097\n",
              "12      lstat    -0.493631"
            ],
            "text/html": [
              "\n",
              "  <div id=\"df-6336a3a4-6d35-4672-a7c0-7463a3d41b60\">\n",
              "    <div class=\"colab-df-container\">\n",
              "      <div>\n",
              "<style scoped>\n",
              "    .dataframe tbody tr th:only-of-type {\n",
              "        vertical-align: middle;\n",
              "    }\n",
              "\n",
              "    .dataframe tbody tr th {\n",
              "        vertical-align: top;\n",
              "    }\n",
              "\n",
              "    .dataframe thead th {\n",
              "        text-align: right;\n",
              "    }\n",
              "</style>\n",
              "<table border=\"1\" class=\"dataframe\">\n",
              "  <thead>\n",
              "    <tr style=\"text-align: right;\">\n",
              "      <th></th>\n",
              "      <th>feature</th>\n",
              "      <th>coefficient</th>\n",
              "    </tr>\n",
              "  </thead>\n",
              "  <tbody>\n",
              "    <tr>\n",
              "      <th>0</th>\n",
              "      <td>intercept</td>\n",
              "      <td>32.100293</td>\n",
              "    </tr>\n",
              "    <tr>\n",
              "      <th>1</th>\n",
              "      <td>crim</td>\n",
              "      <td>-0.042511</td>\n",
              "    </tr>\n",
              "    <tr>\n",
              "      <th>2</th>\n",
              "      <td>zn</td>\n",
              "      <td>0.039198</td>\n",
              "    </tr>\n",
              "    <tr>\n",
              "      <th>3</th>\n",
              "      <td>indus</td>\n",
              "      <td>-0.066741</td>\n",
              "    </tr>\n",
              "    <tr>\n",
              "      <th>4</th>\n",
              "      <td>chas</td>\n",
              "      <td>1.703110</td>\n",
              "    </tr>\n",
              "    <tr>\n",
              "      <th>5</th>\n",
              "      <td>nox</td>\n",
              "      <td>-15.242249</td>\n",
              "    </tr>\n",
              "    <tr>\n",
              "      <th>6</th>\n",
              "      <td>rm</td>\n",
              "      <td>4.077449</td>\n",
              "    </tr>\n",
              "    <tr>\n",
              "      <th>7</th>\n",
              "      <td>age</td>\n",
              "      <td>-0.000381</td>\n",
              "    </tr>\n",
              "    <tr>\n",
              "      <th>8</th>\n",
              "      <td>dis</td>\n",
              "      <td>-1.435144</td>\n",
              "    </tr>\n",
              "    <tr>\n",
              "      <th>9</th>\n",
              "      <td>tax</td>\n",
              "      <td>0.000739</td>\n",
              "    </tr>\n",
              "    <tr>\n",
              "      <th>10</th>\n",
              "      <td>ptratio</td>\n",
              "      <td>-0.959742</td>\n",
              "    </tr>\n",
              "    <tr>\n",
              "      <th>11</th>\n",
              "      <td>black</td>\n",
              "      <td>0.008097</td>\n",
              "    </tr>\n",
              "    <tr>\n",
              "      <th>12</th>\n",
              "      <td>lstat</td>\n",
              "      <td>-0.493631</td>\n",
              "    </tr>\n",
              "  </tbody>\n",
              "</table>\n",
              "</div>\n",
              "      <button class=\"colab-df-convert\" onclick=\"convertToInteractive('df-6336a3a4-6d35-4672-a7c0-7463a3d41b60')\"\n",
              "              title=\"Convert this dataframe to an interactive table.\"\n",
              "              style=\"display:none;\">\n",
              "        \n",
              "  <svg xmlns=\"http://www.w3.org/2000/svg\" height=\"24px\"viewBox=\"0 0 24 24\"\n",
              "       width=\"24px\">\n",
              "    <path d=\"M0 0h24v24H0V0z\" fill=\"none\"/>\n",
              "    <path d=\"M18.56 5.44l.94 2.06.94-2.06 2.06-.94-2.06-.94-.94-2.06-.94 2.06-2.06.94zm-11 1L8.5 8.5l.94-2.06 2.06-.94-2.06-.94L8.5 2.5l-.94 2.06-2.06.94zm10 10l.94 2.06.94-2.06 2.06-.94-2.06-.94-.94-2.06-.94 2.06-2.06.94z\"/><path d=\"M17.41 7.96l-1.37-1.37c-.4-.4-.92-.59-1.43-.59-.52 0-1.04.2-1.43.59L10.3 9.45l-7.72 7.72c-.78.78-.78 2.05 0 2.83L4 21.41c.39.39.9.59 1.41.59.51 0 1.02-.2 1.41-.59l7.78-7.78 2.81-2.81c.8-.78.8-2.07 0-2.86zM5.41 20L4 18.59l7.72-7.72 1.47 1.35L5.41 20z\"/>\n",
              "  </svg>\n",
              "      </button>\n",
              "      \n",
              "  <style>\n",
              "    .colab-df-container {\n",
              "      display:flex;\n",
              "      flex-wrap:wrap;\n",
              "      gap: 12px;\n",
              "    }\n",
              "\n",
              "    .colab-df-convert {\n",
              "      background-color: #E8F0FE;\n",
              "      border: none;\n",
              "      border-radius: 50%;\n",
              "      cursor: pointer;\n",
              "      display: none;\n",
              "      fill: #1967D2;\n",
              "      height: 32px;\n",
              "      padding: 0 0 0 0;\n",
              "      width: 32px;\n",
              "    }\n",
              "\n",
              "    .colab-df-convert:hover {\n",
              "      background-color: #E2EBFA;\n",
              "      box-shadow: 0px 1px 2px rgba(60, 64, 67, 0.3), 0px 1px 3px 1px rgba(60, 64, 67, 0.15);\n",
              "      fill: #174EA6;\n",
              "    }\n",
              "\n",
              "    [theme=dark] .colab-df-convert {\n",
              "      background-color: #3B4455;\n",
              "      fill: #D2E3FC;\n",
              "    }\n",
              "\n",
              "    [theme=dark] .colab-df-convert:hover {\n",
              "      background-color: #434B5C;\n",
              "      box-shadow: 0px 1px 3px 1px rgba(0, 0, 0, 0.15);\n",
              "      filter: drop-shadow(0px 1px 2px rgba(0, 0, 0, 0.3));\n",
              "      fill: #FFFFFF;\n",
              "    }\n",
              "  </style>\n",
              "\n",
              "      <script>\n",
              "        const buttonEl =\n",
              "          document.querySelector('#df-6336a3a4-6d35-4672-a7c0-7463a3d41b60 button.colab-df-convert');\n",
              "        buttonEl.style.display =\n",
              "          google.colab.kernel.accessAllowed ? 'block' : 'none';\n",
              "\n",
              "        async function convertToInteractive(key) {\n",
              "          const element = document.querySelector('#df-6336a3a4-6d35-4672-a7c0-7463a3d41b60');\n",
              "          const dataTable =\n",
              "            await google.colab.kernel.invokeFunction('convertToInteractive',\n",
              "                                                     [key], {});\n",
              "          if (!dataTable) return;\n",
              "\n",
              "          const docLinkHtml = 'Like what you see? Visit the ' +\n",
              "            '<a target=\"_blank\" href=https://colab.research.google.com/notebooks/data_table.ipynb>data table notebook</a>'\n",
              "            + ' to learn more about interactive tables.';\n",
              "          element.innerHTML = '';\n",
              "          dataTable['output_type'] = 'display_data';\n",
              "          await google.colab.output.renderOutput(dataTable, element);\n",
              "          const docLink = document.createElement('div');\n",
              "          docLink.innerHTML = docLinkHtml;\n",
              "          element.appendChild(docLink);\n",
              "        }\n",
              "      </script>\n",
              "    </div>\n",
              "  </div>\n",
              "  "
            ]
          },
          "metadata": {},
          "execution_count": 368
        }
      ]
    },
    {
      "cell_type": "markdown",
      "source": [
        "Intercept shows that the average `medv` is {intercept value} when other features = 0"
      ],
      "metadata": {
        "id": "_oPpnLxEBB16"
      }
    },
    {
      "cell_type": "markdown",
      "source": [
        "Coefficient tells you how much the dependent variable is expected to increase/decrease when that independent variable increases by one, holding all the other independent variables constant.\n",
        "\n",
        "`crim`: a unit increase in `crim` results in an *decrease* in average `medv` by {coefficient value} units, all other variables held constant.\n",
        "\n",
        "`zn`: a unit increase in `zn` results in an *increase* in average `medv` by {coefficient value} units, all other variables held constant.\n",
        "\n",
        "`indus`: a unit increase in `indus` results in an *decrease* in average `medv` by {coefficient value} units, all other variables held constant.\n",
        "\n",
        "`chas`: a unit increase in `chas` results in an *increase* in average `medv` by {coefficient value} units, all other variables held constant.\n",
        "\n",
        "`nox`: a unit increase in `nox` results in an *decrease* in average `medv` by {coefficient value} units, all other variables held constant.\n",
        "\n",
        "`rm`: a unit increase in `rm` results in an *increase* in average `medv` by {coefficient value} units, all other variables held constant.\n",
        "\n",
        "`age`: a unit increase in `age` results in an *decrease* in average `medv` by {coefficient value} units, all other variables held constant.\n",
        "\n",
        "`dis`: a unit increase in `dis` results in an *decrease* in average `medv` by {coefficient value} units, all other variables held constant.\n",
        "\n",
        "`tax`: a unit increase in `tax` results in an *increase* in average `medv` by {coefficient value} units, all other variables held constant.\n",
        "\n",
        "`ptratio`: a unit increase in `ptratio` results in an *decrease* in average `medv` by {coefficient value} units, all other variables held constant.\n",
        "\n",
        "`black`: a unit increase in `black` results in an *increase* in average `medv` by {coefficient value} units, all other variables held constant.\n",
        "\n",
        "`Istat`: a unit increase in `Istat` results in an *decrease* in average `medv` by {coefficient value} units, all other variables held constant."
      ],
      "metadata": {
        "id": "juSCe51P48Vd"
      }
    },
    {
      "cell_type": "markdown",
      "source": [
        "## **b. LASSO**"
      ],
      "metadata": {
        "id": "Lv0yPXDXEAUS"
      }
    },
    {
      "cell_type": "markdown",
      "source": [
        "### **RMSE Analysis**"
      ],
      "metadata": {
        "id": "ZPgEeMAREETC"
      }
    },
    {
      "cell_type": "code",
      "source": [
        "alphas = [0.01, 0.1, 1., 10]\n",
        "models = [lasso_reg_pointzeroone,\n",
        "          lasso_reg_pointone,\n",
        "          lasso_reg_one,\n",
        "          lasso_reg_ten]\n",
        "\n",
        "for model, alpha in zip(models, alphas):\n",
        "    y_predict_validation = model.predict(X_valid)\n",
        "    rmse = np.sqrt(mean_squared_error(y_valid,y_predict_validation))\n",
        "    print(f'RMSE of LASSO regression model with alpha = {alpha} is {rmse}')"
      ],
      "metadata": {
        "colab": {
          "base_uri": "https://localhost:8080/"
        },
        "id": "zrdtzTiv7g1U",
        "outputId": "dcb8d60c-9640-4701-9cbc-e01f579af185"
      },
      "execution_count": 369,
      "outputs": [
        {
          "output_type": "stream",
          "name": "stdout",
          "text": [
            "RMSE of LASSO regression model with alpha = 0.01 is 4.484777010870255\n",
            "RMSE of LASSO regression model with alpha = 0.1 is 4.817102086221335\n",
            "RMSE of LASSO regression model with alpha = 1.0 is 4.864357426425117\n",
            "RMSE of LASSO regression model with alpha = 10 is 5.175664931953733\n"
          ]
        }
      ]
    },
    {
      "cell_type": "markdown",
      "source": [
        "According to theory, smaller RMSE gives better model which in this case model with alpha = 0.01 with RMSE 4.484"
      ],
      "metadata": {
        "id": "ZQXqmKGfEs4r"
      }
    },
    {
      "cell_type": "markdown",
      "source": [
        "### **Coefficient**"
      ],
      "metadata": {
        "id": "m7b9UEQDEHFi"
      }
    },
    {
      "cell_type": "code",
      "source": [
        "model = lasso_reg_pointzeroone\n",
        "\n",
        "coef_df = pd.DataFrame({\n",
        "    'feature':['intercept'] + X_train.columns.tolist(),\n",
        "    'coefficient':[model.intercept_] + list(model.coef_)\n",
        "})\n",
        "\n",
        "coef_df"
      ],
      "metadata": {
        "colab": {
          "base_uri": "https://localhost:8080/",
          "height": 457
        },
        "id": "mvTyJaPyEKIP",
        "outputId": "02c686b8-f813-4f9d-e72e-d8aa8357eaf7"
      },
      "execution_count": 370,
      "outputs": [
        {
          "output_type": "execute_result",
          "data": {
            "text/plain": [
              "      feature  coefficient\n",
              "0   intercept    30.073848\n",
              "1        crim    -0.040910\n",
              "2          zn     0.039736\n",
              "3       indus    -0.076863\n",
              "4        chas     1.499700\n",
              "5         nox   -11.916267\n",
              "6          rm     4.082376\n",
              "7         age    -0.002703\n",
              "8         dis    -1.380811\n",
              "9         tax     0.000022\n",
              "10    ptratio    -0.930373\n",
              "11      black     0.008249\n",
              "12      lstat    -0.499666"
            ],
            "text/html": [
              "\n",
              "  <div id=\"df-93930068-30d5-4bd0-862d-6bedbdd283cc\">\n",
              "    <div class=\"colab-df-container\">\n",
              "      <div>\n",
              "<style scoped>\n",
              "    .dataframe tbody tr th:only-of-type {\n",
              "        vertical-align: middle;\n",
              "    }\n",
              "\n",
              "    .dataframe tbody tr th {\n",
              "        vertical-align: top;\n",
              "    }\n",
              "\n",
              "    .dataframe thead th {\n",
              "        text-align: right;\n",
              "    }\n",
              "</style>\n",
              "<table border=\"1\" class=\"dataframe\">\n",
              "  <thead>\n",
              "    <tr style=\"text-align: right;\">\n",
              "      <th></th>\n",
              "      <th>feature</th>\n",
              "      <th>coefficient</th>\n",
              "    </tr>\n",
              "  </thead>\n",
              "  <tbody>\n",
              "    <tr>\n",
              "      <th>0</th>\n",
              "      <td>intercept</td>\n",
              "      <td>30.073848</td>\n",
              "    </tr>\n",
              "    <tr>\n",
              "      <th>1</th>\n",
              "      <td>crim</td>\n",
              "      <td>-0.040910</td>\n",
              "    </tr>\n",
              "    <tr>\n",
              "      <th>2</th>\n",
              "      <td>zn</td>\n",
              "      <td>0.039736</td>\n",
              "    </tr>\n",
              "    <tr>\n",
              "      <th>3</th>\n",
              "      <td>indus</td>\n",
              "      <td>-0.076863</td>\n",
              "    </tr>\n",
              "    <tr>\n",
              "      <th>4</th>\n",
              "      <td>chas</td>\n",
              "      <td>1.499700</td>\n",
              "    </tr>\n",
              "    <tr>\n",
              "      <th>5</th>\n",
              "      <td>nox</td>\n",
              "      <td>-11.916267</td>\n",
              "    </tr>\n",
              "    <tr>\n",
              "      <th>6</th>\n",
              "      <td>rm</td>\n",
              "      <td>4.082376</td>\n",
              "    </tr>\n",
              "    <tr>\n",
              "      <th>7</th>\n",
              "      <td>age</td>\n",
              "      <td>-0.002703</td>\n",
              "    </tr>\n",
              "    <tr>\n",
              "      <th>8</th>\n",
              "      <td>dis</td>\n",
              "      <td>-1.380811</td>\n",
              "    </tr>\n",
              "    <tr>\n",
              "      <th>9</th>\n",
              "      <td>tax</td>\n",
              "      <td>0.000022</td>\n",
              "    </tr>\n",
              "    <tr>\n",
              "      <th>10</th>\n",
              "      <td>ptratio</td>\n",
              "      <td>-0.930373</td>\n",
              "    </tr>\n",
              "    <tr>\n",
              "      <th>11</th>\n",
              "      <td>black</td>\n",
              "      <td>0.008249</td>\n",
              "    </tr>\n",
              "    <tr>\n",
              "      <th>12</th>\n",
              "      <td>lstat</td>\n",
              "      <td>-0.499666</td>\n",
              "    </tr>\n",
              "  </tbody>\n",
              "</table>\n",
              "</div>\n",
              "      <button class=\"colab-df-convert\" onclick=\"convertToInteractive('df-93930068-30d5-4bd0-862d-6bedbdd283cc')\"\n",
              "              title=\"Convert this dataframe to an interactive table.\"\n",
              "              style=\"display:none;\">\n",
              "        \n",
              "  <svg xmlns=\"http://www.w3.org/2000/svg\" height=\"24px\"viewBox=\"0 0 24 24\"\n",
              "       width=\"24px\">\n",
              "    <path d=\"M0 0h24v24H0V0z\" fill=\"none\"/>\n",
              "    <path d=\"M18.56 5.44l.94 2.06.94-2.06 2.06-.94-2.06-.94-.94-2.06-.94 2.06-2.06.94zm-11 1L8.5 8.5l.94-2.06 2.06-.94-2.06-.94L8.5 2.5l-.94 2.06-2.06.94zm10 10l.94 2.06.94-2.06 2.06-.94-2.06-.94-.94-2.06-.94 2.06-2.06.94z\"/><path d=\"M17.41 7.96l-1.37-1.37c-.4-.4-.92-.59-1.43-.59-.52 0-1.04.2-1.43.59L10.3 9.45l-7.72 7.72c-.78.78-.78 2.05 0 2.83L4 21.41c.39.39.9.59 1.41.59.51 0 1.02-.2 1.41-.59l7.78-7.78 2.81-2.81c.8-.78.8-2.07 0-2.86zM5.41 20L4 18.59l7.72-7.72 1.47 1.35L5.41 20z\"/>\n",
              "  </svg>\n",
              "      </button>\n",
              "      \n",
              "  <style>\n",
              "    .colab-df-container {\n",
              "      display:flex;\n",
              "      flex-wrap:wrap;\n",
              "      gap: 12px;\n",
              "    }\n",
              "\n",
              "    .colab-df-convert {\n",
              "      background-color: #E8F0FE;\n",
              "      border: none;\n",
              "      border-radius: 50%;\n",
              "      cursor: pointer;\n",
              "      display: none;\n",
              "      fill: #1967D2;\n",
              "      height: 32px;\n",
              "      padding: 0 0 0 0;\n",
              "      width: 32px;\n",
              "    }\n",
              "\n",
              "    .colab-df-convert:hover {\n",
              "      background-color: #E2EBFA;\n",
              "      box-shadow: 0px 1px 2px rgba(60, 64, 67, 0.3), 0px 1px 3px 1px rgba(60, 64, 67, 0.15);\n",
              "      fill: #174EA6;\n",
              "    }\n",
              "\n",
              "    [theme=dark] .colab-df-convert {\n",
              "      background-color: #3B4455;\n",
              "      fill: #D2E3FC;\n",
              "    }\n",
              "\n",
              "    [theme=dark] .colab-df-convert:hover {\n",
              "      background-color: #434B5C;\n",
              "      box-shadow: 0px 1px 3px 1px rgba(0, 0, 0, 0.15);\n",
              "      filter: drop-shadow(0px 1px 2px rgba(0, 0, 0, 0.3));\n",
              "      fill: #FFFFFF;\n",
              "    }\n",
              "  </style>\n",
              "\n",
              "      <script>\n",
              "        const buttonEl =\n",
              "          document.querySelector('#df-93930068-30d5-4bd0-862d-6bedbdd283cc button.colab-df-convert');\n",
              "        buttonEl.style.display =\n",
              "          google.colab.kernel.accessAllowed ? 'block' : 'none';\n",
              "\n",
              "        async function convertToInteractive(key) {\n",
              "          const element = document.querySelector('#df-93930068-30d5-4bd0-862d-6bedbdd283cc');\n",
              "          const dataTable =\n",
              "            await google.colab.kernel.invokeFunction('convertToInteractive',\n",
              "                                                     [key], {});\n",
              "          if (!dataTable) return;\n",
              "\n",
              "          const docLinkHtml = 'Like what you see? Visit the ' +\n",
              "            '<a target=\"_blank\" href=https://colab.research.google.com/notebooks/data_table.ipynb>data table notebook</a>'\n",
              "            + ' to learn more about interactive tables.';\n",
              "          element.innerHTML = '';\n",
              "          dataTable['output_type'] = 'display_data';\n",
              "          await google.colab.output.renderOutput(dataTable, element);\n",
              "          const docLink = document.createElement('div');\n",
              "          docLink.innerHTML = docLinkHtml;\n",
              "          element.appendChild(docLink);\n",
              "        }\n",
              "      </script>\n",
              "    </div>\n",
              "  </div>\n",
              "  "
            ]
          },
          "metadata": {},
          "execution_count": 370
        }
      ]
    },
    {
      "cell_type": "markdown",
      "source": [
        "Intercept shows that the average `medv` is {intercept value} when other features = 0"
      ],
      "metadata": {
        "id": "RbQeUU47FPSa"
      }
    },
    {
      "cell_type": "markdown",
      "source": [
        "Coefficient tells you how much the dependent variable is expected to increase/decrease when that independent variable increases by one, holding all the other independent variables constant.\n",
        "\n",
        "`crim`: a unit increase in `crim` results in an *decrease* in average `medv` by {coefficient value} units, all other variables held constant.\n",
        "\n",
        "`zn`: a unit increase in `zn` results in an *increase* in average `medv` by {coefficient value} units, all other variables held constant.\n",
        "\n",
        "`indus`: a unit increase in `indus` results in an *decrease* in average `medv` by {coefficient value} units, all other variables held constant.\n",
        "\n",
        "`chas`: a unit increase in `chas` results in an *increase* in average `medv` by {coefficient value} units, all other variables held constant.\n",
        "\n",
        "`nox`: a unit increase in `nox` results in an *decrease* in average `medv` by {coefficient value} units, all other variables held constant.\n",
        "\n",
        "`rm`: a unit increase in `rm` results in an *increase* in average `medv` by {coefficient value} units, all other variables held constant.\n",
        "\n",
        "`age`: a unit increase in `age` results in an *increase* in average `medv` by {coefficient value} units, all other variables held constant.\n",
        "\n",
        "`dis`: a unit increase in `dis` results in an *decrease* in average `medv` by {coefficient value} units, all other variables held constant.\n",
        "\n",
        "`tax`: a unit increase in `tax` results in an *increase* in average `medv` by {coefficient value} units, all other variables held constant.\n",
        "\n",
        "`ptratio`: a unit increase in `ptratio` results in an *decrease* in average `medv` by {coefficient value} units, all other variables held constant.\n",
        "\n",
        "`black`: a unit increase in `black` results in an *increase* in average `medv` by {coefficient value} units, all other variables held constant.\n",
        "\n",
        "`Istat`: a unit increase in `Istat` results in an *decrease* in average `medv` by {coefficient value} units, all other variables held constant."
      ],
      "metadata": {
        "id": "tAkronwPFRq7"
      }
    },
    {
      "cell_type": "markdown",
      "source": [
        "# **5. Evaluate Best Model on Test Data**"
      ],
      "metadata": {
        "id": "fD_c399CIB49"
      }
    },
    {
      "cell_type": "markdown",
      "source": [
        "## **a. Ridge Regression**"
      ],
      "metadata": {
        "id": "Ysvp5CEhKboM"
      }
    },
    {
      "cell_type": "markdown",
      "source": [
        "### **Diagnostic**"
      ],
      "metadata": {
        "id": "iM_0c55YTp_A"
      }
    },
    {
      "cell_type": "code",
      "source": [
        "ridge_best = ridge_reg_pointzeroone\n",
        "\n",
        "from sklearn.metrics import r2_score\n",
        "\n",
        "y_predict_test = ridge_best.predict(X_test)\n",
        "\n",
        "print('R-squared for Ridge test data is {}'.format(r2_score(y_predict_test, y_test)))"
      ],
      "metadata": {
        "colab": {
          "base_uri": "https://localhost:8080/"
        },
        "id": "eKH0QniOTtx-",
        "outputId": "ac53e4c6-b396-4cfe-9f75-f2a96f588155"
      },
      "execution_count": 377,
      "outputs": [
        {
          "output_type": "stream",
          "name": "stdout",
          "text": [
            "R-squared for Ridge test data is 0.41474829795244506\n"
          ]
        },
        {
          "output_type": "stream",
          "name": "stderr",
          "text": [
            "/usr/local/lib/python3.7/dist-packages/sklearn/base.py:444: UserWarning: X has feature names, but Ridge was fitted without feature names\n",
            "  f\"X has feature names, but {self.__class__.__name__} was fitted without\"\n"
          ]
        }
      ]
    },
    {
      "cell_type": "markdown",
      "source": [
        "R-squared is how well the regression model fits the observed data. R-squared of X% reveals that X% (X% = value above) of the data fit the regression model.\n",
        "\n",
        "R-squared for LASSO test data is 0.41474829795244506. Means 41.47% data fits the regression model."
      ],
      "metadata": {
        "id": "ctwW9HSfT-Rv"
      }
    },
    {
      "cell_type": "markdown",
      "source": [
        "### **Testing Error**"
      ],
      "metadata": {
        "id": "ftG7cEtNUCEZ"
      }
    },
    {
      "cell_type": "code",
      "source": [
        "X_feat_test = X_test.to_numpy()\n",
        "y_predict_test = ridge_best.predict(X_feat_test)\n",
        "\n",
        "y_tgt_test = y_test.to_numpy()\n",
        "y_tgt_test = y_tgt_test.reshape(len(y_tgt_test),)\n",
        "\n",
        "from sklearn.metrics import mean_absolute_error\n",
        "from sklearn.metrics import mean_absolute_percentage_error\n",
        "\n",
        "print('RMSE for Ridge testing data is {}'.format(np.sqrt(mean_squared_error(y_predict_test, y_tgt_test))))\n",
        "print('MAE for Ridge testing data is {}'.format(mean_absolute_error(y_predict_test, y_tgt_test)))\n",
        "print('MAPE for Ridge testing data is {}'.format(mean_absolute_percentage_error(y_predict_test, y_tgt_test)))"
      ],
      "metadata": {
        "colab": {
          "base_uri": "https://localhost:8080/"
        },
        "id": "ImYXJjvuT9mQ",
        "outputId": "5cb49105-c709-4034-b8d9-bb457c845c1c"
      },
      "execution_count": 372,
      "outputs": [
        {
          "output_type": "stream",
          "name": "stdout",
          "text": [
            "RMSE for Ridge testing data is 5.33933764348609\n",
            "MAE for Ridge testing data is 3.3714791096609327\n",
            "MAPE for Ridge testing data is 0.143917402730255\n"
          ]
        }
      ]
    },
    {
      "cell_type": "markdown",
      "source": [
        "## **b. LASSO**"
      ],
      "metadata": {
        "id": "vXh31S_NKhqE"
      }
    },
    {
      "cell_type": "markdown",
      "source": [
        "### **Diagnostic**"
      ],
      "metadata": {
        "id": "b5AVEq9-IJwk"
      }
    },
    {
      "cell_type": "code",
      "source": [
        "lasso_best = lasso_reg_pointzeroone\n",
        "\n",
        "y_predict_test = lasso_best.predict(X_test)\n",
        "\n",
        "print('R-squared for LASSO test data is {}'.format(r2_score(y_predict_test, y_test)))"
      ],
      "metadata": {
        "colab": {
          "base_uri": "https://localhost:8080/"
        },
        "id": "huStKA9iJ6k7",
        "outputId": "e369178b-ead9-42cd-d485-522bea97e973"
      },
      "execution_count": 373,
      "outputs": [
        {
          "output_type": "stream",
          "name": "stdout",
          "text": [
            "R-squared for LASSO test data is 0.4109136240912524\n"
          ]
        },
        {
          "output_type": "stream",
          "name": "stderr",
          "text": [
            "/usr/local/lib/python3.7/dist-packages/sklearn/base.py:444: UserWarning: X has feature names, but Lasso was fitted without feature names\n",
            "  f\"X has feature names, but {self.__class__.__name__} was fitted without\"\n"
          ]
        }
      ]
    },
    {
      "cell_type": "markdown",
      "source": [
        "R-squared is how well the regression model fits the observed data. R-squared of X% reveals that X% (X% = value above) of the data fit the regression model.\n",
        "\n",
        "R-squared for LASSO test data is 0.4109136240912524. Means 41.09% data fits the regression model."
      ],
      "metadata": {
        "id": "f-2BcytNOynL"
      }
    },
    {
      "cell_type": "markdown",
      "source": [
        "### **Testing Error**"
      ],
      "metadata": {
        "id": "JcCbejFAPJVB"
      }
    },
    {
      "cell_type": "code",
      "source": [
        "X_feat_test = X_test.to_numpy()\n",
        "y_predict_test = lasso_best.predict(X_feat_test)\n",
        "\n",
        "y_tgt_test = y_test.to_numpy()\n",
        "y_tgt_test = y_tgt_test.reshape(len(y_tgt_test),)\n",
        "\n",
        "print('RMSE for LASSO testing data is {}'.format(np.sqrt(mean_squared_error(y_predict_test, y_tgt_test))))\n",
        "print('MAE for LASSO testing data is {}'.format(mean_absolute_error(y_predict_test, y_tgt_test)))\n",
        "print('MAPE for LASSO testing data is {}'.format(mean_absolute_percentage_error(y_predict_test, y_tgt_test)))"
      ],
      "metadata": {
        "colab": {
          "base_uri": "https://localhost:8080/"
        },
        "id": "ulFe3d7ESNzZ",
        "outputId": "b4203771-41f6-40ed-d1bb-307b5dff0273"
      },
      "execution_count": 374,
      "outputs": [
        {
          "output_type": "stream",
          "name": "stdout",
          "text": [
            "RMSE for LASSO testing data is 5.345240744785742\n",
            "MAE for LASSO testing data is 3.3559346998807573\n",
            "MAPE for LASSO testing data is 0.14359151083312305\n"
          ]
        }
      ]
    },
    {
      "cell_type": "markdown",
      "source": [
        "## **c. Interpretation**"
      ],
      "metadata": {
        "id": "ktOgKK8eTlJO"
      }
    },
    {
      "cell_type": "markdown",
      "source": [
        "RMSE for Ridge testing data is 5.33933764348609\n",
        "\n",
        "MAE for Ridge testing data is 3.3714791096609327\n",
        "\n",
        "MAPE for Ridge testing data is 0.143917402730255"
      ],
      "metadata": {
        "id": "AGzEaEAgWAxi"
      }
    },
    {
      "cell_type": "markdown",
      "source": [
        "RMSE for LASSO testing data is 5.345240744785742\n",
        "\n",
        "MAE for LASSO testing data is 3.3559346998807573\n",
        "\n",
        "MAPE for LASSO testing data is 0.14359151083312305"
      ],
      "metadata": {
        "id": "d-eHbwchWFwY"
      }
    },
    {
      "cell_type": "markdown",
      "source": [
        "Testing error shows the degree of error orr difference of prediction from actual situation. Smaller error is preferrable. Data above shows the error of Ridge Regression method is smaller, thus preferrable. But the difference in error might not be significant"
      ],
      "metadata": {
        "id": "y__AJr5BWO9o"
      }
    }
  ]
}